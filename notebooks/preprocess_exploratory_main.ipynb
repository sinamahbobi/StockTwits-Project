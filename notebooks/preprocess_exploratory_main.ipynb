{
 "cells": [
  {
   "cell_type": "code",
   "execution_count": 19,
   "metadata": {},
   "outputs": [],
   "source": [
    "import numpy as np\n",
    "import pandas as pd\n",
    "import nbimporter\n",
    "from nltk.corpus import stopwords\n",
    "from pandas.io.json import json_normalize\n",
    "\n",
    "import PriceData_ExploratoryFunctions\n",
    "import StockTwits_ExploratoryFunctions"
   ]
  },
  {
   "cell_type": "code",
   "execution_count": 20,
   "metadata": {},
   "outputs": [],
   "source": [
    "\n",
    "# read in file that has fortune 500 company names\n",
    "c_names = \"../Fortune 500 2017 - Fortune 500.csv\"\n",
    "names = pd.read_csv(c_names)\n",
    "company_names = names.Title.tolist()\n"
   ]
  },
  {
   "cell_type": "code",
   "execution_count": 21,
   "metadata": {},
   "outputs": [],
   "source": [
    "filename = \"../twits/BA.json\"\n",
    "dataframe = pd.read_json(filename)\n",
    "stop = stopwords.words('english')\n",
    "\n",
    "#removes stopwords\n",
    "dataframe['tweets_filtered'] = dataframe['body'].apply(lambda x: ' '.join([word for word in x.split() if word not in (stop)]))\n",
    "\n",
    "# remove stocknames tagged with $\n",
    "f = lambda x: ' '.join([item for item in x.split() if item[0] != '$'])\n",
    "dataframe['tweets_filtered'] = dataframe['tweets_filtered'].apply(f)\n",
    "\n",
    "# remove company names\n",
    "cn = lambda x: ' '.join([item for item in x.split() if item not in company_names])\n",
    "dataframe['tweets_filtered'] = dataframe['tweets_filtered'].apply(cn)\n"
   ]
  },
  {
   "cell_type": "code",
   "execution_count": 25,
   "metadata": {},
   "outputs": [],
   "source": [
    "dataframe['sentiment'] = dataframe['sentiment'].apply(lambda x: {} if pd.isna(x) else x)\n",
    "bear_bull_tags = json_normalize(data=dataframe['sentiment'], \n",
    "                                    meta=['class', 'name'])\n",
    "dataframe['sentiment'] = bear_bull_tags['name']"
   ]
  },
  {
   "cell_type": "code",
   "execution_count": 28,
   "metadata": {},
   "outputs": [
    {
     "data": {
      "text/plain": [
       "0                        What's next http://bit.ly/1TWNeMg\n",
       "1        Industry Expert Discusses The Future Of 3D Pri...\n",
       "2        All-star list business leaders named Trump adv...\n",
       "3        returns higher http://www.economies.com/stocks...\n",
       "4        General Mattis Sec. Def. going wonders drone i...\n",
       "                               ...                        \n",
       "18293                            Got Feb 130 call contract\n",
       "18294    11/18 intraday high - looks ominous 150% stree...\n",
       "18295    4/5 stocks=correct yesterday: missed- go --&gt...\n",
       "18296    Started positions gradually build 100 contracx...\n",
       "18297                                                     \n",
       "Name: tweets_filtered, Length: 18298, dtype: object"
      ]
     },
     "execution_count": 28,
     "metadata": {},
     "output_type": "execute_result"
    }
   ],
   "source": [
    "dataframe['tweets_filtered']"
   ]
  },
  {
   "cell_type": "code",
   "execution_count": null,
   "metadata": {},
   "outputs": [],
   "source": []
  },
  {
   "cell_type": "code",
   "execution_count": null,
   "metadata": {},
   "outputs": [],
   "source": []
  }
 ],
 "metadata": {
  "kernelspec": {
   "display_name": "Python 3",
   "language": "python",
   "name": "python3"
  },
  "language_info": {
   "codemirror_mode": {
    "name": "ipython",
    "version": 3
   },
   "file_extension": ".py",
   "mimetype": "text/x-python",
   "name": "python",
   "nbconvert_exporter": "python",
   "pygments_lexer": "ipython3",
   "version": "3.7.6"
  }
 },
 "nbformat": 4,
 "nbformat_minor": 4
}
